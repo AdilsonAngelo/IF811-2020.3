{
 "cells": [
  {
   "cell_type": "code",
   "execution_count": 1,
   "metadata": {},
   "outputs": [],
   "source": [
    "from grammarinator import FuzzerFactory, generate"
   ]
  },
  {
   "cell_type": "code",
   "execution_count": 3,
   "metadata": {},
   "outputs": [],
   "source": [
    "base_dir = '.'\n",
    "fuzz_dir = f'{base_dir}/fuzz'\n",
    "\n",
    "fuzzer_fac = FuzzerFactory(base_dir)\n",
    "fuzzer_fac.generate_fuzzer(grammars=[f'{base_dir}/pet_store.g4'], actions=False)"
   ]
  },
  {
   "cell_type": "code",
   "execution_count": 4,
   "metadata": {},
   "outputs": [
    {
     "name": "stdout",
     "output_type": "stream",
     "text": [
      "\u001b[0m\u001b[34;40mantlr\u001b[0m/               pet_storeUnlexer.py   requirements.txt\r\n",
      "grammarinator.ipynb  pet_storeUnparser.py\r\n",
      "pet_store.g4         \u001b[34;40m__pycache__\u001b[0m/\r\n"
     ]
    }
   ],
   "source": [
    "ls"
   ]
  },
  {
   "cell_type": "code",
   "execution_count": 14,
   "metadata": {},
   "outputs": [
    {
     "name": "stdout",
     "output_type": "stream",
     "text": [
      "file: data/132138537564139644225203112745788867455\n",
      "file content: https://petstore.swagger.io/v2/store/inventory\n",
      "\n",
      "file: data/293727128526031120666655423093185746375\n",
      "file content: https://petstore.swagger.io/v2/store/order/4\n",
      "\n",
      "file: data/198335281821422041339517333937883195497\n",
      "file content: https://petstore.swagger.io/v2/pet/findByStatus?status=pending\n",
      "\n",
      "file: data/59334118006880823175073157483790258975\n",
      "file content: https://petstore.swagger.io/v2/pet/findByStatus?status=available\n",
      "\n",
      "file: data/270426003454899935180037714123307845812\n",
      "file content: https://petstore.swagger.io/v2/store/order/0\n",
      "\n"
     ]
    }
   ],
   "source": [
    "kwargs = {\n",
    "    'unlexer_path': 'pet_storeUnlexer.py',\n",
    "    'unparser_path': 'pet_storeUnparser.py',\n",
    "    'rule': None,\n",
    "    'out_format': 'data/',\n",
    "# remova o comentário abaixo se quiser\n",
    "# que os arquivos com as entradas do fuzzing \n",
    "# não sejam apagados ao final do gerador\n",
    "\n",
    "#     'cleanup': False,\n",
    "}\n",
    "\n",
    "with generate.Generator(**kwargs) as gen:\n",
    "    for i in range(5):\n",
    "        filepath, _ = gen.create_new_test()\n",
    "        print(f'file: {filepath}')\n",
    "        \n",
    "        with open(filepath, 'r') as f:\n",
    "            print(f'file content: {f.read()}')\n",
    "        print()"
   ]
  },
  {
   "cell_type": "code",
   "execution_count": 4,
   "metadata": {},
   "outputs": [
    {
     "name": "stdout",
     "output_type": "stream",
     "text": [
      "\u001b[0m\u001b[34;40mantlr\u001b[0m/               grammar.py    pet_storeUnlexer.py   \u001b[34;40m__pycache__\u001b[0m/\r\n",
      "grammarinator.ipynb  pet_store.g4  pet_storeUnparser.py  requirements.txt\r\n"
     ]
    }
   ],
   "source": [
    "ls"
   ]
  }
 ],
 "metadata": {
  "kernelspec": {
   "display_name": "Python 3",
   "language": "python",
   "name": "python3"
  },
  "language_info": {
   "codemirror_mode": {
    "name": "ipython",
    "version": 3
   },
   "file_extension": ".py",
   "mimetype": "text/x-python",
   "name": "python",
   "nbconvert_exporter": "python",
   "pygments_lexer": "ipython3",
   "version": "3.7.0"
  }
 },
 "nbformat": 4,
 "nbformat_minor": 4
}
